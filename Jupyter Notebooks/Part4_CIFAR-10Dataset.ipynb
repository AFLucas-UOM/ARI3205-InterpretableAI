{
 "cells": [
  {
   "cell_type": "markdown",
   "metadata": {},
   "source": [
    "# Project ARI3205 Interpretable AI for Deep Learning Models *(Part 4.0)*\n",
    "---\n",
    "\n",
    "**Name:** Andrea Filiberto Lucas  \n",
    "**ID No:** 0279704L\n",
    "\n",
    "---\n",
    "\n",
    "## Importing Necessary Libraries"
   ]
  },
  {
   "cell_type": "code",
   "execution_count": 1,
   "metadata": {},
   "outputs": [
    {
     "name": "stdout",
     "output_type": "stream",
     "text": [
      "[\u001b[92m✔\u001b[0m] Library 'tensorflow' is already installed.\n",
      "[\u001b[92m✔\u001b[0m] Library 'tensorflow_datasets' is already installed.\n",
      "[\u001b[92m✔\u001b[0m] Library 'tf_explain' is already installed.\n",
      "[\u001b[92m✔\u001b[0m] Library 'numpy' is already installed.\n",
      "[\u001b[92m✔\u001b[0m] Library 'matplotlib' is already installed.\n",
      "[\u001b[92m✔\u001b[0m] Library 'alibi' is already installed.\n",
      "TensorFlow Version: 2.18.0\n"
     ]
    }
   ],
   "source": [
    "import json\n",
    "import os\n",
    "import subprocess\n",
    "import warnings\n",
    "import logging\n",
    "import absl.logging                                                                                                                                  #type: ignore\n",
    "\n",
    "# Constants for colored output\n",
    "COLORS = {\n",
    "    \"green\": \"\\033[92m\",  # Green text\n",
    "    \"red\": \"\\033[91m\",    # Red text\n",
    "    \"reset\": \"\\033[0m\"    # Reset to default color\n",
    "}\n",
    "\n",
    "# Path to the JSON file\n",
    "lib_file_path = os.path.join(\"..\", \"Libraries\", \"Part4_Lib.json\")\n",
    "\n",
    "# Read the libraries from the JSON file\n",
    "try:\n",
    "    with open(lib_file_path, 'r') as file:\n",
    "        libraries = json.load(file)\n",
    "except FileNotFoundError:\n",
    "    print(f\"{COLORS['red']}Error: Library file not found at {lib_file_path}{COLORS['reset']}\")\n",
    "    exit(1)\n",
    "except json.JSONDecodeError:\n",
    "    print(f\"{COLORS['red']}Error: Failed to decode JSON from the library file.{COLORS['reset']}\")\n",
    "    exit(1)\n",
    "\n",
    "# Function to check and install libraries\n",
    "def check_and_install_libraries(libraries):\n",
    "    for lib, import_name in libraries.items():\n",
    "        try:\n",
    "            # Attempt to import the library\n",
    "            __import__(import_name)\n",
    "            print(f\"[{COLORS['green']}✔{COLORS['reset']}] Library '{lib}' is already installed.\")\n",
    "        except ImportError:\n",
    "            # If import fails, try to install the library\n",
    "            print(f\"[{COLORS['red']}✖{COLORS['reset']}] Library '{lib}' is not installed. Installing...\")\n",
    "            try:\n",
    "                subprocess.check_call([\"pip\", \"install\", lib])\n",
    "                print(f\"[{COLORS['green']}✔{COLORS['reset']}] Successfully installed '{lib}'.\")\n",
    "            except subprocess.CalledProcessError:\n",
    "                print(f\"[{COLORS['red']}✖{COLORS['reset']}] Failed to install '{lib}'. Please install it manually.\")\n",
    "\n",
    "# Execute the function to check and install libraries\n",
    "check_and_install_libraries(libraries)\n",
    "\n",
    "# Suppress specific warnings\n",
    "warnings.filterwarnings(\"ignore\")\n",
    "\n",
    "# Import necessary libraries for data analysis and modeling\n",
    "import tensorflow as tf                                                                                                                          #type: ignore\n",
    "import numpy as np                                                                                                                               #type: ignore\n",
    "import random                                                                                                                                    #type: ignore\n",
    "import matplotlib.pyplot as plt                                                                                                                  #type: ignore\n",
    "from tensorflow.keras.layers import (                                                                                                            #type: ignore\n",
    "    Input, Conv2D, Dense, Flatten, Dropout, GlobalMaxPooling2D, MaxPooling2D, BatchNormalization\n",
    ")\n",
    "from tensorflow.keras.preprocessing.image import ImageDataGenerator                                                                              #type: ignore\n",
    "from tensorflow.keras.models import Model,  load_model                                                                                           #type: ignore\n",
    "from tf_explain.core.grad_cam import GradCAM  # Grad-CAM explainer                                                                               #type: ignore\n",
    "from alibi.explainers import IntegratedGradients  # Integrated Gradients explainer                                                               #type: ignore\n",
    "from alibi.utils.visualization import visualize_image_attr  # Visualization function                                                             #type: ignore\n",
    "\n",
    "# Display TensorFlow version\n",
    "print(f\"TensorFlow Version: {tf.__version__}\")\n",
    "\n",
    "\n",
    "# Suppress specific warnings\n",
    "warnings.filterwarnings(\"ignore\")\n",
    "absl.logging.set_verbosity(absl.logging.ERROR)"
   ]
  },
  {
   "cell_type": "code",
   "execution_count": 2,
   "metadata": {},
   "outputs": [
    {
     "name": "stdout",
     "output_type": "stream",
     "text": [
      "Training Data Shape: (50000, 32, 32, 3), Labels Shape: (50000, 1)\n",
      "Testing Data Shape: (10000, 32, 32, 3), Labels Shape: (10000, 1)\n",
      "Normalized Training Data: (50000, 32, 32, 3), Labels: (50000,)\n",
      "Normalized Testing Data: (10000, 32, 32, 3), Labels: (10000,)\n"
     ]
    }
   ],
   "source": [
    "# Load the CIFAR-10 dataset\n",
    "cifar10 = tf.keras.datasets.cifar10\n",
    "\n",
    "# Split the dataset into training and testing sets\n",
    "(x_train, y_train), (x_test, y_test) = cifar10.load_data()\n",
    "print(f\"Training Data Shape: {x_train.shape}, Labels Shape: {y_train.shape}\")\n",
    "print(f\"Testing Data Shape: {x_test.shape}, Labels Shape: {y_test.shape}\")\n",
    "\n",
    "# Normalize pixel values to the range [0, 1]\n",
    "x_train = x_train.astype(\"float32\") / 255.0\n",
    "x_test = x_test.astype(\"float32\") / 255.0\n",
    "\n",
    "# Flatten the label arrays to 1D\n",
    "y_train = y_train.flatten()\n",
    "y_test = y_test.flatten()\n",
    "\n",
    "# Print dataset summary after preprocessing\n",
    "print(f\"Normalized Training Data: {x_train.shape}, Labels: {y_train.shape}\")\n",
    "print(f\"Normalized Testing Data: {x_test.shape}, Labels: {y_test.shape}\")"
   ]
  },
  {
   "cell_type": "code",
   "execution_count": 3,
   "metadata": {},
   "outputs": [
    {
     "data": {
      "image/png": "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